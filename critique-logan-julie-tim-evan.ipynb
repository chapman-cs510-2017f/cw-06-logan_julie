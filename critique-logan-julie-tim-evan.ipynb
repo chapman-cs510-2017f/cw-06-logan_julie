{
 "cells": [
  {
   "cell_type": "markdown",
   "metadata": {
    "collapsed": false
   },
   "source": [
    "# Assessment of Classwork 5 (Tim and Evan) #"
   ]
  },
  {
   "cell_type": "markdown",
   "metadata": {
    "collapsed": false
   },
   "source": [
    "### Is it clear how the code is organized? ###\n",
    "* The code is decently organized, everything is modulated in a logical way. The ABC imposes a lot of this."
   ]
  },
  {
   "cell_type": "markdown",
   "metadata": {
    "collapsed": false
   },
   "source": [
    "### Is the code properly documented with both docstrings and supplementary comments according to industry standards? ###\n",
    "* The initializer is properly documented, including inputs used for the `__init__` method. However, there is no summary of the purpose of the class.\n",
    "\n",
    "* Description of inputs and returns is very clear. However, there is no need to include the `self` argument in this description."
   ]
  },
  {
   "cell_type": "markdown",
   "metadata": {
    "collapsed": false
   },
   "source": [
    "### Can you follow the algorithm of the code, i.e., what it is doing, and how? ###\n",
    "* The naming of `listoflists` and `sublist` when creating the plane is a bit generic. However, the task is straightforward enough that this doesn't cause any issues."
   ]
  },
  {
   "cell_type": "markdown",
   "metadata": {
    "collapsed": false
   },
   "source": [
    "### Do you see any suggestions for how to improve the code? ###\n",
    "* The method `applyAllF` and `apply` use some redundant code: `applyAllF` could be using `apply` if it weren't for the `self.fs` aspect of the method. It may be worth adding one more method to avoid this redundancy.\n",
    "\n",
    "* It also appears that `setPlane` can be used to greatly reduce the number of lines in `__init__`, but the order of the methods defined may make this a problem.\n",
    "\n",
    "* The method `refresh` should definitely be using `setPlane`.\n",
    "\n",
    "* May want to consider putting test lines of code in a `main` function to avoid accidentally importing to future scripts."
   ]
  },
  {
   "cell_type": "markdown",
   "metadata": {
    "collapsed": false
   },
   "source": [
    "### Additional Notes ###\n",
    "* The `printTable` method is a nice addition for visualizing results quickly.\n",
    "\n",
    "* The method `zoom` is short and sweet."
   ]
  }
 ],
 "metadata": {
  "kernelspec": {
   "display_name": "Octave",
   "language": "octave",
   "name": "octave"
  },
  "language_info": {
   "file_extension": ".m",
   "help_links": [
    {
     "text": "GNU Octave",
     "url": "https://www.gnu.org/software/octave/support.html"
    },
    {
     "text": "Octave Kernel",
     "url": "https://github.com/Calysto/octave_kernel"
    },
    {
     "text": "MetaKernel Magics",
     "url": "https://github.com/calysto/metakernel/blob/master/metakernel/magics/README.md"
    }
   ],
   "mimetype": "text/x-octave",
   "name": "octave",
   "version": "4.2.1"
  }
 },
 "nbformat": 4,
 "nbformat_minor": 0
}