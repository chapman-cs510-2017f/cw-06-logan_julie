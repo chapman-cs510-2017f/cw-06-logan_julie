{
 "cells": [
  {
   "cell_type": "markdown",
   "metadata": {
    "collapsed": false
   },
   "source": [
    "# Julie and Logan Classwork05 Critique #"
   ]
  },
  {
   "cell_type": "markdown",
   "metadata": {
    "collapsed": false
   },
   "source": [
    "* good comments and docstring\n",
    "* clever, legible code\n",
    "* the comments are placed well and to the point\n",
    "* the code is neat and well ordered\n",
    "* follows chapman code standards well"
   ]
  },
  {
   "cell_type": "markdown",
   "metadata": {
    "collapsed": false
   },
   "source": [
    "in your apply method you did,\n",
    "\n",
    "```python\n",
    "z = self.plane[i][j]\n",
    "self.plane[i][j] = f(z)\n",
    "```\n",
    "could have shortened to \n",
    "```python\n",
    "self.plane[i][j] = f(self.plane[i][j])\n",
    "```\n",
    "if you set your private vars in __create_grid,\n",
    "then you wouldnt need to have to change the private vars in zoom and in constructor\n",
    "\n",
    "can't find any other improvements to be made"
   ]
  },
  {
   "cell_type": "code",
   "execution_count": 0,
   "metadata": {
    "collapsed": false
   },
   "outputs": [
   ],
   "source": [
   ]
  }
 ],
 "metadata": {
  "kernelspec": {
   "display_name": "Python 3 (Anaconda)",
   "language": "python",
   "name": "anaconda3"
  },
  "language_info": {
   "codemirror_mode": {
    "name": "ipython",
    "version": 3
   },
   "file_extension": ".py",
   "mimetype": "text/x-python",
   "name": "python",
   "nbconvert_exporter": "python",
   "pygments_lexer": "ipython3",
   "version": "3.5.4"
  }
 },
 "nbformat": 4,
 "nbformat_minor": 0
}