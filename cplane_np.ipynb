{
 "cells": [
  {
   "cell_type": "markdown",
   "metadata": {
    "collapsed": false
   },
   "source": [
    "Name: Julie Gardner-Hoag, Logan Gantner\n",
    "\n",
    "Student ID: 2299636, 2307470\n",
    "\n",
    "Email: gardnerh@chapman.edu, gantner@chapman.edu\n",
    "\n",
    "Course: CS510 Fall 2017\n",
    "\n",
    "Assignment: Classwork 6"
   ]
  },
  {
   "cell_type": "code",
   "execution_count": 3,
   "metadata": {
    "collapsed": false
   },
   "outputs": [
   ],
   "source": [
    "import cplane_np\n",
    "import pandas as pd\n",
    "import numpy as np\n",
    "from abscplane import AbsComplexPlane"
   ]
  },
  {
   "cell_type": "markdown",
   "metadata": {
    "collapsed": false
   },
   "source": [
    "## Creating the Array Complex Plane Class"
   ]
  },
  {
   "cell_type": "markdown",
   "metadata": {
    "collapsed": false
   },
   "source": [
    "First, we created the class ArrayComplexPlane. The purpose of the class is to store and manipulate a grid of complex points. Our class inherited from AbsComplexPlane, which is an abstract base class with the general structure of our final class. The data was stored in a 2D array containing grid points.\n",
    "\n",
    "The only difference between this classwork assignment and last week's is that we used an array instead of a list to store our grid points. To do this, we imported numpy."
   ]
  },
  {
   "cell_type": "markdown",
   "metadata": {
    "collapsed": false
   },
   "source": [
    "## The Grid Structure"
   ]
  },
  {
   "cell_type": "markdown",
   "metadata": {
    "collapsed": false
   },
   "source": [
    "This method differs from the way we previously created the grid by using the numpy linspace and meshgrid methods along with creating a DataFrame with pandas. Using linspace and meshgrid, we eliminate the for loop implemented before. With pandas, we also are able to label our data nicely. We chose to label our columns as $x_i$ and our rows as $y_i\\cdot1j$."
   ]
  },
  {
   "cell_type": "code",
   "execution_count": 1,
   "metadata": {
    "collapsed": false
   },
   "outputs": [
   ],
   "source": [
    "    def __create_grid(self):\n",
    "        rx = np.linspace(self.xmin, self.xmax, self.xlen)\n",
    "        ry = np.linspace(self.ymin, self.ymax, self.ylen)\n",
    "        x,y = np.meshgrid(rx,ry)\n",
    "        grid = x + y*1j\n",
    "\n",
    "        col_names = ['x'+str(i+1) for i in range(self.xlen)]\n",
    "        row_names = ['y{0}*i'.format(str(i+1)) for i in range(self.ylen)]\n",
    "        grid = pd.DataFrame(grid, index=row_names, columns=col_names)\n",
    "\n",
    "        return grid"
   ]
  },
  {
   "cell_type": "markdown",
   "metadata": {
    "collapsed": false
   },
   "source": [
    "## The Apply Function"
   ]
  },
  {
   "cell_type": "markdown",
   "metadata": {
    "collapsed": true
   },
   "source": [
    "The apply function takes our points $z$, where $z=(x + y\\cdot1j)$ and performs $f(z)$. In testing our program, we chose $f(z)=z+2$.\n",
    "\n",
    "Using pandas, we were able to use less than half of the amount of code we had used in the previous classwork. We simply used the applymap method to apply our function f to our array. This allowed us to get rid of our for loop."
   ]
  },
  {
   "cell_type": "code",
   "execution_count": 10,
   "metadata": {
    "collapsed": false
   },
   "outputs": [
   ],
   "source": [
    "    self.plane = self.plane.applymap(f)\n",
    "    self.fs.append(f)"
   ]
  },
  {
   "cell_type": "markdown",
   "metadata": {
    "collapsed": false
   },
   "source": [
    "## The Refresh Function"
   ]
  },
  {
   "cell_type": "markdown",
   "metadata": {
    "collapsed": false
   },
   "source": [
    "The refresh function regenerates the complex plane and clears all functions that transform the plane. We did this by simply make fs an empty list and resetting the parameters for the 2D grid of points to regenerate the grid.\n",
    "\n",
    "This function did not differ much from the previous classwork's function."
   ]
  },
  {
   "cell_type": "code",
   "execution_count": 0,
   "metadata": {
    "collapsed": false
   },
   "outputs": [
   ],
   "source": [
    "    self.fs = []\n",
    "    self.plane = self.__create_grid()"
   ]
  },
  {
   "cell_type": "markdown",
   "metadata": {
    "collapsed": false
   },
   "source": [
    "## The Zoom Function"
   ]
  },
  {
   "cell_type": "markdown",
   "metadata": {
    "collapsed": false
   },
   "source": [
    "The zoom function takes new values for our xmin, xmax, xlen, ymin, ymax, and ylen values and applies f(z) to our new values.\n",
    "\n",
    "This function also used the applymap method from pandas. However, we could not avoid the for loop for fs because fs is a list of functions that cannot be put in an array."
   ]
  },
  {
   "cell_type": "code",
   "execution_count": 0,
   "metadata": {
    "collapsed": false
   },
   "outputs": [
   ],
   "source": [
    "    for f in self.fs:\n",
    "        self.plane = self.plane.applymap(f)"
   ]
  },
  {
   "cell_type": "markdown",
   "metadata": {
    "collapsed": false
   },
   "source": [
    "## Test Cases"
   ]
  },
  {
   "cell_type": "markdown",
   "metadata": {
    "collapsed": false
   },
   "source": [
    "Our test module tests each of our functions.\n",
    "\n",
    "First we tested our plane to make sure our program outputs the correct points.\n",
    "\n",
    "Next, we tested our apply function to test that our points carried out the function $f(z) = z + 2$ correctly.\n",
    "\n",
    "Then, we tested the zoom function. This test function applies our function $f(z)$ and then carries out our zoom function with new points. The zoom function also applies $f(z) to these new points. This test function checks that we get the correct output for this as well.\n",
    "\n",
    "Finally, we tested the refresh function. This test function applies $f(z)$ and then applies the refresh function. The refresh function should give us the original points for our plane. This test function checks that we get our original points."
   ]
  }
 ],
 "metadata": {
  "kernelspec": {
   "display_name": "Python 3 (Anaconda)",
   "language": "python",
   "name": "anaconda3"
  },
  "language_info": {
   "codemirror_mode": {
    "name": "ipython",
    "version": 3
   },
   "file_extension": ".py",
   "mimetype": "text/x-python",
   "name": "python",
   "nbconvert_exporter": "python",
   "pygments_lexer": "ipython3",
   "version": "3.5.4"
  }
 },
 "nbformat": 4,
 "nbformat_minor": 0
}